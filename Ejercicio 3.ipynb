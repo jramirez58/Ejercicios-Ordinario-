{
 "cells": [
  {
   "cell_type": "markdown",
   "metadata": {
    "collapsed": true
   },
   "source": [
    "# Universidad de Colima#\n",
    "## Facultad de Ingenieria Civil\n",
    "## Ingeniero Topografo Geomatico\n",
    "### Requisitos para el examen ordinario 3\n",
    "#### Juan Carlos Ramirez Baltazar 3B"
   ]
  },
  {
   "cell_type": "code",
   "execution_count": 1,
   "metadata": {},
   "outputs": [],
   "source": [
    "# Importar los modulos \n",
    "import folium \n",
    "import shapefile\n",
    "from pyproj import Proj\n",
    "import numpy as np "
   ]
  },
  {
   "cell_type": "code",
   "execution_count": 2,
   "metadata": {},
   "outputs": [],
   "source": [
    "# Abrir el archivo shapefile(shp)\n",
    "shp = shapefile.Reader(\"Muni_2012gw.shp\")"
   ]
  },
  {
   "cell_type": "code",
   "execution_count": 7,
   "metadata": {},
   "outputs": [
    {
     "ename": "TypeError",
     "evalue": "an integer is required",
     "output_type": "error",
     "traceback": [
      "\u001b[1;31m\u001b[0m",
      "\u001b[1;31mTypeError\u001b[0mTraceback (most recent call last)",
      "\u001b[1;32m<ipython-input-7-c2c20d4c9e77>\u001b[0m in \u001b[0;36m<module>\u001b[1;34m()\u001b[0m\n\u001b[0;32m      1\u001b[0m \u001b[1;31m# Bucle para extraer los tipos de vias\u001b[0m\u001b[1;33m\u001b[0m\u001b[1;33m\u001b[0m\u001b[0m\n\u001b[0;32m      2\u001b[0m \u001b[0mf\u001b[0m \u001b[1;33m=\u001b[0m \u001b[1;33m[\u001b[0m\u001b[1;33m]\u001b[0m\u001b[1;33m\u001b[0m\u001b[0m\n\u001b[1;32m----> 3\u001b[1;33m \u001b[1;32mfor\u001b[0m \u001b[0mi\u001b[0m \u001b[1;32min\u001b[0m \u001b[0mrange\u001b[0m\u001b[1;33m(\u001b[0m\u001b[0mlen\u001b[0m\u001b[1;33m(\u001b[0m\u001b[0mshp\u001b[0m\u001b[1;33m)\u001b[0m\u001b[1;33m)\u001b[0m\u001b[1;33m:\u001b[0m\u001b[1;33m\u001b[0m\u001b[0m\n\u001b[0m\u001b[0;32m      4\u001b[0m     \u001b[0mf\u001b[0m\u001b[1;33m.\u001b[0m\u001b[0mappend\u001b[0m \u001b[1;33m(\u001b[0m\u001b[0mshape\u001b[0m\u001b[1;33m[\u001b[0m\u001b[0mi\u001b[0m\u001b[1;33m]\u001b[0m\u001b[1;33m[\u001b[0m\u001b[1;34m\"NOMBRE\"\u001b[0m\u001b[1;33m]\u001b[0m\u001b[1;33m[\u001b[0m\u001b[1;34m\"Detalle\"\u001b[0m\u001b[1;33m]\u001b[0m\u001b[1;33m)\u001b[0m\u001b[1;33m\u001b[0m\u001b[0m\n",
      "\u001b[1;31mTypeError\u001b[0m: an integer is required"
     ]
    }
   ],
   "source": [
    "# Bucle para extraer los tipos de vias \n",
    "f = []\n",
    "for i in range(len(shp)):\n",
    "    f.append (shape[i][\"NOMBRE\"][\"id\"])"
   ]
  },
  {
   "cell_type": "code",
   "execution_count": null,
   "metadata": {},
   "outputs": [],
   "source": [
    "# Numero de vectores de Carretera \n",
    "g.count(\"NOMBRE\")"
   ]
  },
  {
   "cell_type": "code",
   "execution_count": null,
   "metadata": {},
   "outputs": [],
   "source": [
    "g.count(\"id\")"
   ]
  },
  {
   "cell_type": "code",
   "execution_count": null,
   "metadata": {},
   "outputs": [],
   "source": [
    "# Valor maximo \n",
    "max(g)"
   ]
  },
  {
   "cell_type": "code",
   "execution_count": null,
   "metadata": {},
   "outputs": [],
   "source": [
    "#valor minimo\n",
    "min(g)"
   ]
  },
  {
   "cell_type": "code",
   "execution_count": null,
   "metadata": {
    "collapsed": true
   },
   "outputs": [],
   "source": [
    "# Mapeo del shp"
   ]
  },
  {
   "cell_type": "code",
   "execution_count": null,
   "metadata": {},
   "outputs": [],
   "source": [
    "# Definimos la proyeccion del archivo shp \n",
    "pr = Proj(proj='utm',zone=13,elleps=\"WGS84\")\n",
    "\n",
    "# Definimos los colores de linea(la paleta de colores se obtuvo de ColorBrewer)\n",
    "color = ['#ffffb2','#fecc5c','#fd8d3c','#f03b20','#bd0026']\n",
    "#Definimos el grosor de las lineas\n",
    "width = [2,4,3,5,6]\n",
    "\n",
    "# Definimos una funcion que tome un Feature y retorne el mismo Feature con un estilo de linea \n",
    "def estilo(fts):\n",
    "    \n",
    "    #Definimos el tipo de linea y creamos una lista que contendra las coordenadas geograficas \n",
    "    num, cr = fts[\"properties\"][\"Tipo\"]-1, []\n",
    "    \n",
    "    #Debido a que algunas geometrias no contienen nada, primero se pregunta \n",
    "    if fts[\"geometry\"] <> None:\n",
    "        \n",
    "        # Transformamos coordenadas UTM a geograficas \n",
    "        for i in fts[\"geometry\"][\"coordinates\"]: cr.append(pr(i[0],i[1],inverse=True))\n",
    "            \n",
    "        # Sustituimos las coordenadas UTM a geograficas \n",
    "        fts[\"geometry\"][\"coordinates\"] = cr\n",
    "        \n",
    "    # Agregamos un estilo de linea y color a las propiedades \n",
    "    fts[\"properties\"][\"style\"] = {\"color\":[num], \"width\":width[num]}\n",
    "    \n",
    "    return fts "
   ]
  },
  {
   "cell_type": "code",
   "execution_count": null,
   "metadata": {
    "collapsed": true
   },
   "outputs": [],
   "source": [
    "#creamos un mapa\n",
    "municipios = folium.Map(location=[23.000,-102.000],zoom_start=4)"
   ]
  },
  {
   "cell_type": "code",
   "execution_count": null,
   "metadata": {},
   "outputs": [],
   "source": [
    "# Accedemos al primer valor del shp\n",
    "ft = next(shp,None)\n",
    "\n",
    "# Iteramos por cada valor del shape mientras sea diferente a None \n",
    "while ft <> None:\n",
    "    \n",
    "    # Agregamos el estilo al feature con la funcion hecha \n",
    "    feat = estilo(ft)\n",
    "    \n",
    "    #Agregamos al Geojson al mapa\n",
    "    folium.GeoJson(feat).add_to(municipios)\n",
    "    \n",
    "    # Accedemos al siguiente valor \n",
    "    ft = next(shp,None)\n",
    "    \n",
    "#muestra el mapa \n",
    "municipios "
   ]
  },
  {
   "cell_type": "code",
   "execution_count": null,
   "metadata": {
    "collapsed": true
   },
   "outputs": [],
   "source": []
  },
  {
   "cell_type": "code",
   "execution_count": null,
   "metadata": {
    "collapsed": true
   },
   "outputs": [],
   "source": []
  }
 ],
 "metadata": {
  "kernelspec": {
   "display_name": "Python 2",
   "language": "python",
   "name": "python2"
  },
  "language_info": {
   "codemirror_mode": {
    "name": "ipython",
    "version": 2
   },
   "file_extension": ".py",
   "mimetype": "text/x-python",
   "name": "python",
   "nbconvert_exporter": "python",
   "pygments_lexer": "ipython2",
   "version": "2.7.15"
  }
 },
 "nbformat": 4,
 "nbformat_minor": 1
}
